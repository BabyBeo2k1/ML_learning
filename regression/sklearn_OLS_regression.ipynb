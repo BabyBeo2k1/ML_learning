{
 "cells": [
  {
   "cell_type": "code",
   "execution_count": 28,
   "id": "0c6fdf8c",
   "metadata": {},
   "outputs": [],
   "source": [
    "from sklearn import linear_model\n",
    "from sklearn.model_selection import train_test_split\n",
    "from sklearn.metrics import mean_squared_error, mean_absolute_error, r2_score\n",
    "import pandas as pd"
   ]
  },
  {
   "cell_type": "code",
   "execution_count": 29,
   "id": "ceaf0548",
   "metadata": {},
   "outputs": [],
   "source": [
    "dataset=pd.read_csv(\"~/python/regression/linear_dataset/Linear Regression - Sheet1.csv\")\n",
    "#the model is expected to train y=2/3*x+17/9"
   ]
  },
  {
   "cell_type": "code",
   "execution_count": 30,
   "id": "4d44e0e8",
   "metadata": {},
   "outputs": [
    {
     "data": {
      "text/html": [
       "<div>\n",
       "<style scoped>\n",
       "    .dataframe tbody tr th:only-of-type {\n",
       "        vertical-align: middle;\n",
       "    }\n",
       "\n",
       "    .dataframe tbody tr th {\n",
       "        vertical-align: top;\n",
       "    }\n",
       "\n",
       "    .dataframe thead th {\n",
       "        text-align: right;\n",
       "    }\n",
       "</style>\n",
       "<table border=\"1\" class=\"dataframe\">\n",
       "  <thead>\n",
       "    <tr style=\"text-align: right;\">\n",
       "      <th></th>\n",
       "      <th>X</th>\n",
       "      <th>Y</th>\n",
       "    </tr>\n",
       "  </thead>\n",
       "  <tbody>\n",
       "    <tr>\n",
       "      <th>0</th>\n",
       "      <td>1</td>\n",
       "      <td>3.888889</td>\n",
       "    </tr>\n",
       "    <tr>\n",
       "      <th>1</th>\n",
       "      <td>2</td>\n",
       "      <td>4.555556</td>\n",
       "    </tr>\n",
       "    <tr>\n",
       "      <th>2</th>\n",
       "      <td>3</td>\n",
       "      <td>5.222222</td>\n",
       "    </tr>\n",
       "    <tr>\n",
       "      <th>3</th>\n",
       "      <td>4</td>\n",
       "      <td>5.888889</td>\n",
       "    </tr>\n",
       "    <tr>\n",
       "      <th>4</th>\n",
       "      <td>5</td>\n",
       "      <td>6.555556</td>\n",
       "    </tr>\n",
       "  </tbody>\n",
       "</table>\n",
       "</div>"
      ],
      "text/plain": [
       "   X         Y\n",
       "0  1  3.888889\n",
       "1  2  4.555556\n",
       "2  3  5.222222\n",
       "3  4  5.888889\n",
       "4  5  6.555556"
      ]
     },
     "execution_count": 30,
     "metadata": {},
     "output_type": "execute_result"
    }
   ],
   "source": [
    "dataset.head(5)"
   ]
  },
  {
   "cell_type": "code",
   "execution_count": 31,
   "id": "c7ebd369",
   "metadata": {},
   "outputs": [
    {
     "name": "stdout",
     "output_type": "stream",
     "text": [
      "(300, 1) (300, 1)\n"
     ]
    }
   ],
   "source": [
    "x=dataset['X'].values.reshape(-1,1)\n",
    "y=dataset['Y'].values.reshape(-1,1)\n",
    "print(x.shape,y.shape)\n",
    "#shape the data to fit the model well"
   ]
  },
  {
   "cell_type": "code",
   "execution_count": 32,
   "id": "0e87d692",
   "metadata": {},
   "outputs": [
    {
     "name": "stdout",
     "output_type": "stream",
     "text": [
      "[[ 26]\n",
      " [232]\n",
      " [183]\n",
      " [100]\n",
      " [192]]\n",
      "[[ 20.55555556]\n",
      " [157.8888889 ]\n",
      " [125.2222222 ]\n",
      " [ 69.88888889]\n",
      " [131.2222222 ]]\n"
     ]
    }
   ],
   "source": [
    "x_train,x_test,y_train,y_test=train_test_split(x,y,test_size=0.25)\n",
    "print(x_train[:5])\n",
    "print (y_train[:5])\n",
    "#split dataset"
   ]
  },
  {
   "cell_type": "code",
   "execution_count": 33,
   "id": "c9e5cd3a",
   "metadata": {},
   "outputs": [],
   "source": [
    "#define model\n",
    "model=linear_model.LinearRegression()"
   ]
  },
  {
   "cell_type": "code",
   "execution_count": 34,
   "id": "e5c2ffc6",
   "metadata": {},
   "outputs": [
    {
     "data": {
      "text/plain": [
       "LinearRegression()"
      ]
     },
     "execution_count": 34,
     "metadata": {},
     "output_type": "execute_result"
    }
   ],
   "source": [
    "#fit model\n",
    "model.fit(x_train,y_train)"
   ]
  },
  {
   "cell_type": "code",
   "execution_count": 35,
   "id": "8395fbaf",
   "metadata": {},
   "outputs": [],
   "source": [
    "#prediction in test data\n",
    "y_pred=model.predict(x_test)\n"
   ]
  },
  {
   "cell_type": "code",
   "execution_count": 39,
   "id": "92498c89",
   "metadata": {},
   "outputs": [
    {
     "name": "stdout",
     "output_type": "stream",
     "text": [
      "Coefficients: \n",
      " [[0.63152609]]\n",
      "Interception: \n",
      " [6.76927061]\n",
      "Mean squared error: 11.778348\n",
      "Coefficient of determination: 0.996442\n"
     ]
    }
   ],
   "source": [
    "# The coefficients aka weight\n",
    "print(\"Coefficients: \\n\", model.coef_)\n",
    "#The interception aka bias\n",
    "print(\"Interception: \\n\", model.intercept_)\n",
    "# The mean squared error\n",
    "print(\"Mean squared error: %f\" % mean_squared_error(y_test,y_pred))\n",
    "# The coefficient of determination: 1 is perfect prediction\n",
    "print(\"Coefficient of determination: %f\" % r2_score(y_test,y_pred))\n"
   ]
  }
 ],
 "metadata": {
  "kernelspec": {
   "display_name": "Python 3 (ipykernel)",
   "language": "python",
   "name": "python3"
  },
  "language_info": {
   "codemirror_mode": {
    "name": "ipython",
    "version": 3
   },
   "file_extension": ".py",
   "mimetype": "text/x-python",
   "name": "python",
   "nbconvert_exporter": "python",
   "pygments_lexer": "ipython3",
   "version": "3.9.7"
  }
 },
 "nbformat": 4,
 "nbformat_minor": 5
}
