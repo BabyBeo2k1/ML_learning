{
 "cells": [
  {
   "cell_type": "code",
   "execution_count": 1,
   "id": "ace47bee-419a-408b-88f7-fc289173e87c",
   "metadata": {},
   "outputs": [],
   "source": [
    "import torch\n",
    "import numpy as np\n",
    "import pandas as pd"
   ]
  },
  {
   "cell_type": "code",
   "execution_count": 14,
   "id": "a7ab2fed-56ba-4b5d-a50c-bd678e4e6e98",
   "metadata": {},
   "outputs": [
    {
     "name": "stdout",
     "output_type": "stream",
     "text": [
      "<class 'pandas.core.frame.DataFrame'>\n",
      "RangeIndex: 4238 entries, 0 to 4237\n",
      "Data columns (total 16 columns):\n",
      " #   Column           Non-Null Count  Dtype  \n",
      "---  ------           --------------  -----  \n",
      " 0   male             4238 non-null   int64  \n",
      " 1   age              4238 non-null   int64  \n",
      " 2   education        4133 non-null   float64\n",
      " 3   currentSmoker    4238 non-null   int64  \n",
      " 4   cigsPerDay       4209 non-null   float64\n",
      " 5   BPMeds           4185 non-null   float64\n",
      " 6   prevalentStroke  4238 non-null   int64  \n",
      " 7   prevalentHyp     4238 non-null   int64  \n",
      " 8   diabetes         4238 non-null   int64  \n",
      " 9   totChol          4188 non-null   float64\n",
      " 10  sysBP            4238 non-null   float64\n",
      " 11  diaBP            4238 non-null   float64\n",
      " 12  BMI              4219 non-null   float64\n",
      " 13  heartRate        4237 non-null   float64\n",
      " 14  glucose          3850 non-null   float64\n",
      " 15  TenYearCHD       4238 non-null   int64  \n",
      "dtypes: float64(9), int64(7)\n",
      "memory usage: 529.9 KB\n"
     ]
    }
   ],
   "source": [
    "df = pd.read_csv(\"dataset/framingham.csv\")\n",
    "df.info()\n",
    "df=df.fillna((df.min()+df.max())/2)"
   ]
  },
  {
   "cell_type": "code",
   "execution_count": 15,
   "id": "71eefc19-e1cd-448b-9a51-829e13bedec9",
   "metadata": {},
   "outputs": [],
   "source": [
    "def sigmoid(z):\n",
    "    return 1/(1+np.exp(z))"
   ]
  },
  {
   "cell_type": "code",
   "execution_count": 16,
   "id": "728150c7-2afc-4362-949d-f228847afd01",
   "metadata": {},
   "outputs": [],
   "source": [
    "def ReLU(z):\n",
    "    return np.maximum(0,z)"
   ]
  },
  {
   "cell_type": "code",
   "execution_count": 17,
   "id": "44852f8d-91d5-4738-a7ee-f707c5abd2c7",
   "metadata": {},
   "outputs": [],
   "source": [
    "def tanh(z):\n",
    "    return (np.exp(z)-np.exp(-z))/(np.exp(z)+np.exp(-z))"
   ]
  },
  {
   "cell_type": "code",
   "execution_count": 18,
   "id": "9c601f63-bcd6-4228-9cb9-a5f041c5080f",
   "metadata": {},
   "outputs": [],
   "source": [
    "def LeakyReLU(z):\n",
    "    return np.maximum(0.01*z,z)"
   ]
  },
  {
   "cell_type": "code",
   "execution_count": 19,
   "id": "29b55bec-d1a0-4131-83ec-a4a86dfa90c4",
   "metadata": {},
   "outputs": [],
   "source": [
    "y=df.iloc[:,15].values.reshape(-1,1)\n",
    "x=df.iloc[:,:15].values.reshape(-1,15)"
   ]
  },
  {
   "cell_type": "code",
   "execution_count": 20,
   "id": "d4674c0e-d9d8-4983-94fe-1c0ce0cf6bd4",
   "metadata": {},
   "outputs": [
    {
     "name": "stdout",
     "output_type": "stream",
     "text": [
      "(4238, 15)\n",
      "3390\n",
      "(16, 4238)\n"
     ]
    }
   ],
   "source": [
    "print(x.shape)\n",
    "n=len(df)\n",
    "n=(int)(n*0.8)\n",
    "print (n)\n",
    "df=df.T\n",
    "print (df.shape)"
   ]
  },
  {
   "cell_type": "code",
   "execution_count": 21,
   "id": "1ffd602e-9dd8-457e-af9d-2ca3c35ca2b5",
   "metadata": {},
   "outputs": [],
   "source": [
    "x_train=df.iloc[:15,:n].values.reshape(15,-1)\n",
    "y_train=df.iloc[15,:n].values.reshape(1,-1)\n",
    "x_test=df.iloc[:15,n:].values.reshape(15,-1)\n",
    "y_test=df.iloc[15,n:].values.reshape(1,-1)"
   ]
  },
  {
   "cell_type": "code",
   "execution_count": 22,
   "id": "d98400ce-5971-4721-ad96-51b49c5a057f",
   "metadata": {},
   "outputs": [
    {
     "name": "stdout",
     "output_type": "stream",
     "text": [
      "[[ 1.    0.    1.   ...  1.    1.    1.  ]\n",
      " [39.   46.   48.   ... 37.   59.   50.  ]\n",
      " [ 4.    2.    1.   ...  2.    1.    1.  ]\n",
      " ...\n",
      " [26.97 28.73 25.34 ... 22.79 31.08 24.45]\n",
      " [80.   95.   75.   ... 56.   70.   69.  ]\n",
      " [77.   76.   70.   ... 76.   70.   70.  ]]\n"
     ]
    }
   ],
   "source": [
    "print (x_train)"
   ]
  },
  {
   "cell_type": "code",
   "execution_count": 55,
   "id": "209f6afa-19d9-48d5-bc83-652650043201",
   "metadata": {},
   "outputs": [],
   "source": [
    "#init\n",
    "w1=np.random.rand(2,15)*0.01\n",
    "w2=np.random.rand(1,2)*0.01\n",
    "#layers=2 \n",
    "#layer hidden has 2 nodes\n",
    "#layer output has 1 nodes\n",
    "b1=np.zeros((2,1))\n",
    "b2=np.zeros((1,1))\n"
   ]
  },
  {
   "cell_type": "code",
   "execution_count": 56,
   "id": "e185136d-84f2-485d-a0aa-d65bafc17d01",
   "metadata": {},
   "outputs": [],
   "source": [
    "lr=0.001;\n",
    "\n",
    "for i in range(1000):\n",
    "    #forward\n",
    "    z1=np.dot(w1,x_train)+b1\n",
    "    a1=sigmoid(z1)\n",
    "    z2=np.dot(w2,a1)+b2\n",
    "    a2=sigmoid(z2)\n",
    "    #cal loss\n",
    "    #backward\n",
    "    dz2=a2-y_train\n",
    "    dw2=1/n*np.dot(dz2,a1.T)\n",
    "    db2=1/n*np.sum(dz2,axis=1,keepdims=True)\n",
    "    dz1=np.dot(w2.T,dz2)*(a1*(1-a1))\n",
    "    dw1=1/n*np.dot(dz1,x_train.T)\n",
    "    db1=1/n*np.sum(dz1,axis=1,keepdims=True)\n",
    "    #update \n",
    "    w2=w2-lr*dw2\n",
    "    b2=b2-lr*db2\n",
    "    w1=w1-lr*dw1\n",
    "    b1=b1-lr*db1"
   ]
  },
  {
   "cell_type": "code",
   "execution_count": 57,
   "id": "f43bf23a-3bbe-496f-b314-c837374dc690",
   "metadata": {},
   "outputs": [
    {
     "name": "stdout",
     "output_type": "stream",
     "text": [
      "[[1. 1. 1. 1. 1. 1. 1. 1. 1. 1. 1. 1. 1. 1. 1. 1. 1. 1. 1. 1. 1. 1. 1. 1.\n",
      "  1. 1. 1. 1. 1. 1. 1. 1. 1. 1. 1. 1. 1. 1. 1. 1. 1. 1. 1. 1. 1. 1. 1. 1.\n",
      "  1. 1. 1. 1. 1. 1. 1. 1. 1. 1. 1. 1. 1. 1. 1. 1. 1. 1. 1. 1. 1. 1. 1. 1.\n",
      "  1. 1. 1. 1. 1. 1. 1. 1. 1. 1. 1. 1. 1. 1. 1. 1. 1. 1. 1. 1. 1. 1. 1. 1.\n",
      "  1. 1. 1. 1. 1. 1. 1. 1. 1. 1. 1. 1. 1. 1. 1. 1. 1. 1. 1. 1. 1. 1. 1. 1.\n",
      "  1. 1. 1. 1. 1. 1. 1. 1. 1. 1. 1. 1. 1. 1. 1. 1. 1. 1. 1. 1. 1. 1. 1. 1.\n",
      "  1. 1. 1. 1. 1. 1. 1. 1. 1. 1. 1. 1. 1. 1. 1. 1. 1. 1. 1. 1. 1. 1. 1. 1.\n",
      "  1. 1. 1. 1. 1. 1. 1. 1. 1. 1. 1. 1. 1. 1. 1. 1. 1. 1. 1. 1. 1. 1. 1. 1.\n",
      "  1. 1. 1. 1. 1. 1. 1. 1. 1. 1. 1. 1. 1. 1. 1. 1. 1. 1. 1. 1. 1. 1. 1. 1.\n",
      "  1. 1. 1. 1. 1. 1. 1. 1. 1. 1. 1. 1. 1. 1. 1. 1. 1. 1. 1. 1. 1. 1. 1. 1.\n",
      "  1. 1. 1. 1. 1. 1. 1. 1. 1. 1. 1. 1. 1. 1. 1. 1. 1. 1. 1. 1. 1. 1. 1. 1.\n",
      "  1. 1. 1. 1. 1. 1. 1. 1. 1. 1. 1. 1. 1. 1. 1. 1. 1. 1. 1. 1. 1. 1. 1. 1.\n",
      "  1. 1. 1. 1. 1. 1. 1. 1. 1. 1. 1. 1. 1. 1. 1. 1. 1. 1. 1. 1. 1. 1. 1. 1.\n",
      "  1. 1. 1. 1. 1. 1. 1. 1. 1. 1. 1. 1. 1. 1. 1. 1. 1. 1. 1. 1. 1. 1. 1. 1.\n",
      "  1. 1. 1. 1. 1. 1. 1. 1. 1. 1. 1. 1. 1. 1. 1. 1. 1. 1. 1. 1. 1. 1. 1. 1.\n",
      "  1. 1. 1. 1. 1. 1. 1. 1. 1. 1. 1. 1. 1. 1. 1. 1. 1. 1. 1. 1. 1. 1. 1. 1.\n",
      "  1. 1. 1. 1. 1. 1. 1. 1. 1. 1. 1. 1. 1. 1. 1. 1. 1. 1. 1. 1. 1. 1. 1. 1.\n",
      "  1. 1. 1. 1. 1. 1. 1. 1. 1. 1. 1. 1. 1. 1. 1. 1. 1. 1. 1. 1. 1. 1. 1. 1.\n",
      "  1. 1. 1. 1. 1. 1. 1. 1. 1. 1. 1. 1. 1. 1. 1. 1. 1. 1. 1. 1. 1. 1. 1. 1.\n",
      "  1. 1. 1. 1. 1. 1. 1. 1. 1. 1. 1. 1. 1. 1. 1. 1. 1. 1. 1. 1. 1. 1. 1. 1.\n",
      "  1. 1. 1. 1. 1. 1. 1. 1. 1. 1. 1. 1. 1. 1. 1. 1. 1. 1. 1. 1. 1. 1. 1. 1.\n",
      "  1. 1. 1. 1. 1. 1. 1. 1. 1. 1. 1. 1. 1. 1. 1. 1. 1. 1. 1. 1. 1. 1. 1. 1.\n",
      "  1. 1. 1. 1. 1. 1. 1. 1. 1. 1. 1. 1. 1. 1. 1. 1. 1. 1. 1. 1. 1. 1. 1. 1.\n",
      "  1. 1. 1. 1. 1. 1. 1. 1. 1. 1. 1. 1. 1. 1. 1. 1. 1. 1. 1. 1. 1. 1. 1. 1.\n",
      "  1. 1. 1. 1. 1. 1. 1. 1. 1. 1. 1. 1. 1. 1. 1. 1. 1. 1. 1. 1. 1. 1. 1. 1.\n",
      "  1. 1. 1. 1. 1. 1. 1. 1. 1. 1. 1. 1. 1. 1. 1. 1. 1. 1. 1. 1. 1. 1. 1. 1.\n",
      "  1. 1. 1. 1. 1. 1. 1. 1. 1. 1. 1. 1. 1. 1. 1. 1. 1. 1. 1. 1. 1. 1. 1. 1.\n",
      "  1. 1. 1. 1. 1. 1. 1. 1. 1. 1. 1. 1. 1. 1. 1. 1. 1. 1. 1. 1. 1. 1. 1. 1.\n",
      "  1. 1. 1. 1. 1. 1. 1. 1. 1. 1. 1. 1. 1. 1. 1. 1. 1. 1. 1. 1. 1. 1. 1. 1.\n",
      "  1. 1. 1. 1. 1. 1. 1. 1. 1. 1. 1. 1. 1. 1. 1. 1. 1. 1. 1. 1. 1. 1. 1. 1.\n",
      "  1. 1. 1. 1. 1. 1. 1. 1. 1. 1. 1. 1. 1. 1. 1. 1. 1. 1. 1. 1. 1. 1. 1. 1.\n",
      "  1. 1. 1. 1. 1. 1. 1. 1. 1. 1. 1. 1. 1. 1. 1. 1. 1. 1. 1. 1. 1. 1. 1. 1.\n",
      "  1. 1. 1. 1. 1. 1. 1. 1. 1. 1. 1. 1. 1. 1. 1. 1. 1. 1. 1. 1. 1. 1. 1. 1.\n",
      "  1. 1. 1. 1. 1. 1. 1. 1. 1. 1. 1. 1. 1. 1. 1. 1. 1. 1. 1. 1. 1. 1. 1. 1.\n",
      "  1. 1. 1. 1. 1. 1. 1. 1. 1. 1. 1. 1. 1. 1. 1. 1. 1. 1. 1. 1. 1. 1. 1. 1.\n",
      "  1. 1. 1. 1. 1. 1. 1. 1.]]\n",
      "correct prediction: 14.976415094339623 %\n"
     ]
    }
   ],
   "source": [
    "#evaluate\n",
    "z1_pred=np.dot(w1,x_test)+b1\n",
    "a1_pred=z1_pred\n",
    "z2_pred=np.dot(w2,a1_pred)+b2\n",
    "a2_pred=sigmoid(z2_pred)\n",
    "y_pred=np.round(a2_pred)\n",
    "print(y_pred)\n",
    "res=abs(y_test-y_pred)\n",
    "count =(1-((np.sum(res))/len(res.T)))*100\n",
    "print(\"correct prediction:\",count,\"%\")"
   ]
  },
  {
   "cell_type": "code",
   "execution_count": null,
   "id": "aa7ab985-3180-46dc-bb90-6bd9abd36814",
   "metadata": {},
   "outputs": [],
   "source": []
  }
 ],
 "metadata": {
  "kernelspec": {
   "display_name": "Python 3 (ipykernel)",
   "language": "python",
   "name": "python3"
  },
  "language_info": {
   "codemirror_mode": {
    "name": "ipython",
    "version": 3
   },
   "file_extension": ".py",
   "mimetype": "text/x-python",
   "name": "python",
   "nbconvert_exporter": "python",
   "pygments_lexer": "ipython3",
   "version": "3.7.11"
  }
 },
 "nbformat": 4,
 "nbformat_minor": 5
}
