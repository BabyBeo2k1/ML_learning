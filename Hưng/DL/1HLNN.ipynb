{
 "cells": [
  {
   "cell_type": "code",
   "execution_count": 97,
   "id": "ace47bee-419a-408b-88f7-fc289173e87c",
   "metadata": {},
   "outputs": [],
   "source": [
    "import torch\n",
    "import numpy as np\n",
    "import pandas as pd"
   ]
  },
  {
   "cell_type": "code",
   "execution_count": 98,
   "id": "a7ab2fed-56ba-4b5d-a50c-bd678e4e6e98",
   "metadata": {},
   "outputs": [
    {
     "name": "stdout",
     "output_type": "stream",
     "text": [
      "<class 'pandas.core.frame.DataFrame'>\n",
      "RangeIndex: 4238 entries, 0 to 4237\n",
      "Data columns (total 16 columns):\n",
      " #   Column           Non-Null Count  Dtype  \n",
      "---  ------           --------------  -----  \n",
      " 0   male             4238 non-null   int64  \n",
      " 1   age              4238 non-null   int64  \n",
      " 2   education        4133 non-null   float64\n",
      " 3   currentSmoker    4238 non-null   int64  \n",
      " 4   cigsPerDay       4209 non-null   float64\n",
      " 5   BPMeds           4185 non-null   float64\n",
      " 6   prevalentStroke  4238 non-null   int64  \n",
      " 7   prevalentHyp     4238 non-null   int64  \n",
      " 8   diabetes         4238 non-null   int64  \n",
      " 9   totChol          4188 non-null   float64\n",
      " 10  sysBP            4238 non-null   float64\n",
      " 11  diaBP            4238 non-null   float64\n",
      " 12  BMI              4219 non-null   float64\n",
      " 13  heartRate        4237 non-null   float64\n",
      " 14  glucose          3850 non-null   float64\n",
      " 15  TenYearCHD       4238 non-null   int64  \n",
      "dtypes: float64(9), int64(7)\n",
      "memory usage: 529.9 KB\n"
     ]
    }
   ],
   "source": [
    "df = pd.read_csv(\"dataset/framingham.csv\")\n",
    "df.info()\n",
    "df=df.fillna((df.min()+df.max())/2)\n",
    "n=len(df)\n",
    "df=df.T"
   ]
  },
  {
   "cell_type": "code",
   "execution_count": 99,
   "id": "71eefc19-e1cd-448b-9a51-829e13bedec9",
   "metadata": {},
   "outputs": [],
   "source": [
    "def sigmoid(z):\n",
    "    return 1/(1+np.exp(z))"
   ]
  },
  {
   "cell_type": "code",
   "execution_count": 100,
   "id": "728150c7-2afc-4362-949d-f228847afd01",
   "metadata": {},
   "outputs": [],
   "source": [
    "def ReLU(z):\n",
    "    return np.maximum(0,z)"
   ]
  },
  {
   "cell_type": "code",
   "execution_count": 101,
   "id": "44852f8d-91d5-4738-a7ee-f707c5abd2c7",
   "metadata": {},
   "outputs": [],
   "source": [
    "def tanh(z):\n",
    "    return (np.exp(z)-np.exp(-z))/(np.exp(z)+np.exp(-z))"
   ]
  },
  {
   "cell_type": "code",
   "execution_count": 102,
   "id": "9c601f63-bcd6-4228-9cb9-a5f041c5080f",
   "metadata": {},
   "outputs": [],
   "source": [
    "def LeakyReLU(z):\n",
    "    return np.maximum(0.01*z,z)"
   ]
  },
  {
   "cell_type": "code",
   "execution_count": 103,
   "id": "29b55bec-d1a0-4131-83ec-a4a86dfa90c4",
   "metadata": {},
   "outputs": [
    {
     "name": "stdout",
     "output_type": "stream",
     "text": [
      "[[  1.     0.     1.   ...   0.     0.     0.  ]\n",
      " [ 39.    46.    48.   ...  48.    44.    52.  ]\n",
      " [  4.     2.     1.   ...   2.     1.     2.  ]\n",
      " ...\n",
      " [ 26.97  28.73  25.34 ...  22.    19.16  21.47]\n",
      " [ 80.    95.    75.   ...  84.    86.    80.  ]\n",
      " [ 77.    76.    70.   ...  86.   217.   107.  ]]\n"
     ]
    }
   ],
   "source": [
    "y=df.iloc[15,:].values.reshape(1,-1)\n",
    "x=df.iloc[:15,:].values.reshape(15,-15)\n",
    "print (x)"
   ]
  },
  {
   "cell_type": "code",
   "execution_count": 90,
   "id": "3edeae28-3d5f-4c83-addf-8e1785cd559e",
   "metadata": {},
   "outputs": [],
   "source": [
    "def norm(x):\n",
    "    x=x-(np.amax(x,axis=1,keepdims=True)+np.amin(x,axis=1,keepdims=True))/2\n",
    "    m=np.sum(x**2,axis=1,keepdims=True)\n",
    "    m=np.sqrt(m)\n",
    "    x=x/m\n",
    "    return x"
   ]
  },
  {
   "cell_type": "code",
   "execution_count": 91,
   "id": "d4674c0e-d9d8-4983-94fe-1c0ce0cf6bd4",
   "metadata": {},
   "outputs": [
    {
     "name": "stdout",
     "output_type": "stream",
     "text": [
      "(15, 4238)\n",
      "2712\n",
      "(16, 4238)\n"
     ]
    }
   ],
   "source": [
    "print(x.shape)\n",
    "\n",
    "n=(int)(n*0.8)\n",
    "print (n)\n",
    "\n",
    "print (df.shape)"
   ]
  },
  {
   "cell_type": "code",
   "execution_count": 92,
   "id": "1ffd602e-9dd8-457e-af9d-2ca3c35ca2b5",
   "metadata": {},
   "outputs": [],
   "source": [
    "x_train=df.iloc[:15,:n].values.reshape(15,-1)\n",
    "x_train=norm(x_train)\n",
    "y_train=df.iloc[15,:n].values.reshape(1,-1)\n",
    "x_test=df.iloc[:15,n:].values.reshape(15,-1)\n",
    "x_test=norm(x_test)\n",
    "y_test=df.iloc[15,n:].values.reshape(1,-1)"
   ]
  },
  {
   "cell_type": "code",
   "execution_count": 93,
   "id": "d98400ce-5971-4721-ad96-51b49c5a057f",
   "metadata": {},
   "outputs": [
    {
     "name": "stdout",
     "output_type": "stream",
     "text": [
      "(15, 2712)\n"
     ]
    }
   ],
   "source": [
    "print (x_train.shape\n",
    "      )"
   ]
  },
  {
   "cell_type": "code",
   "execution_count": 94,
   "id": "209f6afa-19d9-48d5-bc83-652650043201",
   "metadata": {},
   "outputs": [],
   "source": [
    "#init\n",
    "w1=np.random.rand(4,15)*0.01\n",
    "w2=np.random.rand(5,4)*0.01\n",
    "w3=np.random.rand(1,5)*0.01\n",
    "#layers=2 \n",
    "#layer hidden has 2 nodes\n",
    "#layer output has 1 nodes\n",
    "b1=np.zeros((4,1))\n",
    "b2=np.zeros((5,1))\n",
    "b3=np.zeros((1,1))\n"
   ]
  },
  {
   "cell_type": "code",
   "execution_count": 95,
   "id": "e185136d-84f2-485d-a0aa-d65bafc17d01",
   "metadata": {},
   "outputs": [
    {
     "name": "stdout",
     "output_type": "stream",
     "text": [
      "[[ True  True  True  True False  True  True  True  True  True  True  True\n",
      "   True  True  True]\n",
      " [ True  True  True  True  True  True  True  True False False  True  True\n",
      "   True  True  True]\n",
      " [ True  True  True  True  True  True  True  True  True False  True  True\n",
      "   True  True  True]\n",
      " [False  True False  True  True False  True  True  True  True  True False\n",
      "  False False  True]]\n"
     ]
    }
   ],
   "source": [
    "lr=0.001\n",
    "kr=0.8\n",
    "lambd=0.4\n",
    "eg=np.random.rand(w1.shape[0],w1.shape[1])<kr\n",
    "print (eg)\n",
    "for i in range(10000):\n",
    "    #forward\n",
    "    z1=np.dot(w1*(np.random.rand(w1.shape[0],w1.shape[1])<kr),x_train)+b1\n",
    "    a1=z1\n",
    "    z2=np.dot(w2*(np.random.rand(w2.shape[0],w2.shape[1])<kr),a1)+b2\n",
    "    a2=ReLU(z2)\n",
    "    z3=np.dot(w3*(np.random.rand(w3.shape[0],w3.shape[1])<kr),a2)+b3\n",
    "    a3=sigmoid(z3)\n",
    "    \n",
    "    #cal loss\n",
    "    #backward\n",
    "    dz3=a3-y_train\n",
    "    dw3=1/n*np.dot(dz3,a2.T)+w3*lambd/n\n",
    "    db3=1/n*np.sum(dz3,axis=1,keepdims=True)\n",
    "    dz2=1/n*np.dot(w3.T,dz3)*(z2>0)\n",
    "    dw2=1/n*np.dot(dz2,a1.T)+w2*lambd/n\n",
    "    db2=1/n*np.sum(dz2,axis=1,keepdims=True)\n",
    "    dz1=1/n*np.dot(w2.T,dz2)\n",
    "    dw1=1/n*np.dot(dz1,x_train.T)+w1*lambd/n\n",
    "    db1=1/n*np.sum(dz1,axis=1,keepdims=True)\n",
    "    #update \n",
    "    w3=w3-lr*dw3\n",
    "    b3=b3-lr*db3\n",
    "    w2=w2-lr*dw2\n",
    "    b2=b2-lr*db2\n",
    "    w1=w1-lr*dw1\n",
    "    b1=b1-lr*db1\n",
    "    #drop out\n",
    "    z1_pred=np.dot(w1,x_test)+b1\n",
    "    a1_pred=z1_pred\n",
    "    z2_pred=np.dot(w2,a1_pred)+b2\n",
    "    a2_pred=ReLU(z2_pred)\n",
    "    z3_pred=np.dot(w3,a2_pred)+b3\n",
    "    a3_pred=sigmoid(z3_pred)\n",
    "    y_pred=np.round(a3_pred)"
   ]
  },
  {
   "cell_type": "code",
   "execution_count": 96,
   "id": "f43bf23a-3bbe-496f-b314-c837374dc690",
   "metadata": {},
   "outputs": [
    {
     "name": "stdout",
     "output_type": "stream",
     "text": [
      "[[1. 1. 1. ... 1. 1. 1.]]\n",
      "[[0.00723913 0.00969494 0.00659734 0.00373732 0.00624932 0.00583979\n",
      "  0.00080709 0.00724783 0.002916   0.00758985 0.00494054 0.00509011\n",
      "  0.0027982  0.0058433  0.00246678]\n",
      " [0.00404277 0.00320064 0.00904733 0.00161562 0.00622179 0.00015944\n",
      "  0.00771385 0.0017527  0.00641531 0.00259813 0.00529206 0.00690748\n",
      "  0.0057544  0.00152083 0.00715492]\n",
      " [0.00651488 0.00856709 0.0063494  0.00071564 0.00775472 0.00066335\n",
      "  0.00183959 0.00789335 0.00369299 0.00048202 0.00944991 0.00787508\n",
      "  0.00011624 0.00914551 0.00783883]\n",
      " [0.00552094 0.00624874 0.00859407 0.00929981 0.00239804 0.00765027\n",
      "  0.00609053 0.00269071 0.00359082 0.00158507 0.00291537 0.00895395\n",
      "  0.00647608 0.00988388 0.00155597]]\n",
      "[[9.26513417e-03 5.42978131e-03 3.89003649e-03 8.39603666e-03]\n",
      " [4.27526263e-03 5.26296599e-03 5.61797435e-03 5.72330072e-03]\n",
      " [7.56478126e-03 4.73784214e-03 5.89064460e-03 9.14277451e-03]\n",
      " [1.08816272e-03 8.29024937e-03 4.92741546e-03 9.61557143e-03]\n",
      " [6.99277514e-03 1.46821492e-03 6.89509556e-05 8.87545242e-03]]\n",
      "correct prediction: 15.3997378768021 %\n"
     ]
    }
   ],
   "source": [
    "#evaluate\n",
    "\n",
    "z1_pred=np.dot(w1,x_test)+b1\n",
    "a1_pred=z1_pred\n",
    "z2_pred=np.dot(w2,a1_pred)+b2\n",
    "a2_pred=ReLU(z2_pred)\n",
    "z3_pred=np.dot(w3,a2_pred)+b3\n",
    "a3_pred=sigmoid(z3_pred)\n",
    "y_pred=np.round(a3_pred)\n",
    "print(y_pred)\n",
    "print(w1)\n",
    "print(w2)\n",
    "res=abs(y_test-y_pred)\n",
    "count =(1-((np.sum(res))/len(res.T)))*100\n",
    "print(\"correct prediction:\",count,\"%\")"
   ]
  },
  {
   "cell_type": "code",
   "execution_count": null,
   "id": "aa7ab985-3180-46dc-bb90-6bd9abd36814",
   "metadata": {},
   "outputs": [],
   "source": []
  },
  {
   "cell_type": "code",
   "execution_count": null,
   "id": "acf24e33-f5cc-4bca-a797-4397c0bfad27",
   "metadata": {},
   "outputs": [],
   "source": []
  }
 ],
 "metadata": {
  "kernelspec": {
   "display_name": "Python 3 (ipykernel)",
   "language": "python",
   "name": "python3"
  },
  "language_info": {
   "codemirror_mode": {
    "name": "ipython",
    "version": 3
   },
   "file_extension": ".py",
   "mimetype": "text/x-python",
   "name": "python",
   "nbconvert_exporter": "python",
   "pygments_lexer": "ipython3",
   "version": "3.7.11"
  }
 },
 "nbformat": 4,
 "nbformat_minor": 5
}
