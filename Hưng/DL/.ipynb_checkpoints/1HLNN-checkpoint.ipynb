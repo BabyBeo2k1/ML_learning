{
 "cells": [
  {
   "cell_type": "code",
   "execution_count": 1,
   "id": "ace47bee-419a-408b-88f7-fc289173e87c",
   "metadata": {},
   "outputs": [],
   "source": [
    "import torch\n",
    "import numpy as np\n",
    "import pandas as pd"
   ]
  },
  {
   "cell_type": "code",
   "execution_count": 3,
   "id": "a7ab2fed-56ba-4b5d-a50c-bd678e4e6e98",
   "metadata": {},
   "outputs": [
    {
     "name": "stdout",
     "output_type": "stream",
     "text": [
      "<class 'pandas.core.frame.DataFrame'>\n",
      "RangeIndex: 4238 entries, 0 to 4237\n",
      "Data columns (total 16 columns):\n",
      " #   Column           Non-Null Count  Dtype  \n",
      "---  ------           --------------  -----  \n",
      " 0   male             4238 non-null   int64  \n",
      " 1   age              4238 non-null   int64  \n",
      " 2   education        4133 non-null   float64\n",
      " 3   currentSmoker    4238 non-null   int64  \n",
      " 4   cigsPerDay       4209 non-null   float64\n",
      " 5   BPMeds           4185 non-null   float64\n",
      " 6   prevalentStroke  4238 non-null   int64  \n",
      " 7   prevalentHyp     4238 non-null   int64  \n",
      " 8   diabetes         4238 non-null   int64  \n",
      " 9   totChol          4188 non-null   float64\n",
      " 10  sysBP            4238 non-null   float64\n",
      " 11  diaBP            4238 non-null   float64\n",
      " 12  BMI              4219 non-null   float64\n",
      " 13  heartRate        4237 non-null   float64\n",
      " 14  glucose          3850 non-null   float64\n",
      " 15  TenYearCHD       4238 non-null   int64  \n",
      "dtypes: float64(9), int64(7)\n",
      "memory usage: 529.9 KB\n"
     ]
    }
   ],
   "source": [
    "df = pd.read_csv(\"dataset/framingham.csv\")\n",
    "df.info()\n",
    "df.replace"
   ]
  },
  {
   "cell_type": "code",
   "execution_count": null,
   "id": "71eefc19-e1cd-448b-9a51-829e13bedec9",
   "metadata": {},
   "outputs": [],
   "source": [
    "def sigmoid(z):\n",
    "    return 1/(1+np.exp(z))"
   ]
  },
  {
   "cell_type": "code",
   "execution_count": null,
   "id": "728150c7-2afc-4362-949d-f228847afd01",
   "metadata": {},
   "outputs": [],
   "source": [
    "def ReLU(z):\n",
    "    return np.maximum(0,z)"
   ]
  },
  {
   "cell_type": "code",
   "execution_count": null,
   "id": "44852f8d-91d5-4738-a7ee-f707c5abd2c7",
   "metadata": {},
   "outputs": [],
   "source": [
    "def tanh(z):\n",
    "    return (np.exp(z)-np.exp(-z))/(np.exp(z)+np.exp(-z))"
   ]
  },
  {
   "cell_type": "code",
   "execution_count": null,
   "id": "9c601f63-bcd6-4228-9cb9-a5f041c5080f",
   "metadata": {},
   "outputs": [],
   "source": [
    "def LeakyReLU(z):\n",
    "    return np.maximum(0.01*z,z)"
   ]
  },
  {
   "cell_type": "code",
   "execution_count": null,
   "id": "29b55bec-d1a0-4131-83ec-a4a86dfa90c4",
   "metadata": {},
   "outputs": [],
   "source": [
    "w0=np.random.rand(15,1)*0.01\n"
   ]
  },
  {
   "cell_type": "code",
   "execution_count": null,
   "id": "d4674c0e-d9d8-4983-94fe-1c0ce0cf6bd4",
   "metadata": {},
   "outputs": [],
   "source": []
  }
 ],
 "metadata": {
  "kernelspec": {
   "display_name": "Python 3 (ipykernel)",
   "language": "python",
   "name": "python3"
  },
  "language_info": {
   "codemirror_mode": {
    "name": "ipython",
    "version": 3
   },
   "file_extension": ".py",
   "mimetype": "text/x-python",
   "name": "python",
   "nbconvert_exporter": "python",
   "pygments_lexer": "ipython3",
   "version": "3.7.11"
  }
 },
 "nbformat": 4,
 "nbformat_minor": 5
}
