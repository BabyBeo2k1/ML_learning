{
 "cells": [
  {
   "cell_type": "code",
   "execution_count": 3,
   "id": "74d6b4f9-b31a-4812-b03b-04119cdecb9e",
   "metadata": {},
   "outputs": [
    {
     "name": "stdout",
     "output_type": "stream",
     "text": [
      "Downloading data from https://storage.googleapis.com/tensorflow/tf-keras-datasets/mnist.npz\n",
      "11493376/11490434 [==============================] - 1s 0us/step\n",
      "11501568/11490434 [==============================] - 1s 0us/step\n"
     ]
    }
   ],
   "source": [
    "import tensorflow as tf\n",
    "#load data\n",
    "(x_train,y_train),(x_test,y_test)=tf.keras.datasets.mnist.load_data()"
   ]
  },
  {
   "cell_type": "code",
   "execution_count": 8,
   "id": "49cc3c47-872f-4898-ba92-4192049f71a2",
   "metadata": {},
   "outputs": [
    {
     "name": "stdout",
     "output_type": "stream",
     "text": [
      "[[  0   0  30  36  94 154 170 253 253 253 253 253 225 172 253 242 195  64]\n",
      " [  0  49 238 253 253 253 253 253 253 253 253 251  93  82  82  56  39   0]\n",
      " [  0  18 219 253 253 253 253 253 198 182 247 241   0   0   0   0   0   0]\n",
      " [  0   0  80 156 107 253 253 205  11   0  43 154   0   0   0   0   0   0]\n",
      " [  0   0   0  14   1 154 253  90   0   0   0   0   0   0   0   0   0   0]\n",
      " [  0   0   0   0   0 139 253 190   2   0   0   0   0   0   0   0   0   0]\n",
      " [  0   0   0   0   0  11 190 253  70   0   0   0   0   0   0   0   0   0]\n",
      " [  0   0   0   0   0   0  35 241 225 160 108   1   0   0   0   0   0   0]\n",
      " [  0   0   0   0   0   0   0  81 240 253 253 119  25   0   0   0   0   0]\n",
      " [  0   0   0   0   0   0   0   0  45 186 253 253 150  27   0   0   0   0]\n",
      " [  0   0   0   0   0   0   0   0   0  16  93 252 253 187   0   0   0   0]\n",
      " [  0   0   0   0   0   0   0   0   0   0   0 249 253 249  64   0   0   0]\n",
      " [  0   0   0   0   0   0   0   0  46 130 183 253 253 207   2   0   0   0]\n",
      " [  0   0   0   0   0   0  39 148 229 253 253 253 250 182   0   0   0   0]\n",
      " [  0   0   0   0  24 114 221 253 253 253 253 201  78   0   0   0   0   0]\n",
      " [  0   0  23  66 213 253 253 253 253 198  81   2   0   0   0   0   0   0]\n",
      " [ 18 171 219 253 253 253 253 195  80   9   0   0   0   0   0   0   0   0]\n",
      " [226 253 253 253 253 244 133  11   0   0   0   0   0   0   0   0   0   0]]\n",
      "(60000, 28, 28)\n"
     ]
    }
   ],
   "source": [
    "print(x_train[0,6:24,6:24])\n",
    "print(x_train.shape)"
   ]
  },
  {
   "cell_type": "code",
   "execution_count": 6,
   "id": "4d2d2767-ceba-45be-ad4e-d0bba7e53c80",
   "metadata": {},
   "outputs": [
    {
     "data": {
      "text/plain": [
       "<function matplotlib.pyplot.show(close=None, block=None)>"
      ]
     },
     "execution_count": 6,
     "metadata": {},
     "output_type": "execute_result"
    },
    {
     "data": {
      "image/png": "[encoded data removed]",
      "text/plain": [
       "<Figure size 288x288 with 2 Axes>"
      ]
     },
     "metadata": {
      "needs_background": "light"
     },
     "output_type": "display_data"
    }
   ],
   "source": [
    "import matplotlib.pyplot as plt\n",
    "plt.matshow(x_train[0],cmap='gray')\n",
    "plt.colorbar()\n",
    "plt.show"
   ]
  },
  {
   "cell_type": "code",
   "execution_count": 10,
   "id": "ef06a429-e14f-495d-a77e-1fb5eec61b85",
   "metadata": {},
   "outputs": [
    {
     "ename": "ValueError",
     "evalue": "cannot reshape array of size 60000 into shape (60000,28,28,1)",
     "output_type": "error",
     "traceback": [
      "\u001b[1;31m---------------------------------------------------------------------------\u001b[0m",
      "\u001b[1;31mValueError\u001b[0m                                Traceback (most recent call last)",
      "Input \u001b[1;32mIn [10]\u001b[0m, in \u001b[0;36m<cell line: 2>\u001b[1;34m()\u001b[0m\n\u001b[0;32m      1\u001b[0m x_train\u001b[38;5;241m=\u001b[39mx_train\u001b[38;5;241m.\u001b[39mreshape((\u001b[38;5;241m60000\u001b[39m, \u001b[38;5;241m28\u001b[39m, \u001b[38;5;241m28\u001b[39m,\u001b[38;5;241m1\u001b[39m))\n\u001b[1;32m----> 2\u001b[0m y_train\u001b[38;5;241m=\u001b[39m\u001b[43my_train\u001b[49m\u001b[38;5;241;43m.\u001b[39;49m\u001b[43mreshape\u001b[49m\u001b[43m(\u001b[49m\u001b[43m(\u001b[49m\u001b[38;5;241;43m60000\u001b[39;49m\u001b[43m,\u001b[49m\u001b[43m \u001b[49m\u001b[38;5;241;43m28\u001b[39;49m\u001b[43m,\u001b[49m\u001b[43m \u001b[49m\u001b[38;5;241;43m28\u001b[39;49m\u001b[43m,\u001b[49m\u001b[38;5;241;43m1\u001b[39;49m\u001b[43m)\u001b[49m\u001b[43m)\u001b[49m\n",
      "\u001b[1;31mValueError\u001b[0m: cannot reshape array of size 60000 into shape (60000,28,28,1)"
     ]
    }
   ],
   "source": [
    "x_train=x_train.reshape((60000, 28, 28,1))\n",
    "y_train=y_train.reshape((60000, 28, 28,1))"
   ]
  },
  {
   "cell_type": "code",
   "execution_count": null,
   "id": "ed5f4979-62bc-4436-9b28-68c50280247c",
   "metadata": {},
   "outputs": [],
   "source": []
  }
 ],
 "metadata": {
  "kernelspec": {
   "display_name": "Python 3 (ipykernel)",
   "language": "python",
   "name": "python3"
  },
  "language_info": {
   "codemirror_mode": {
    "name": "ipython",
    "version": 3
   },
   "file_extension": ".py",
   "mimetype": "text/x-python",
   "name": "python",
   "nbconvert_exporter": "python",
   "pygments_lexer": "ipython3",
   "version": "3.9.12"
  }
 },
 "nbformat": 4,
 "nbformat_minor": 5
}
