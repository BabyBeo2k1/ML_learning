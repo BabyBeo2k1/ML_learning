{
 "cells": [
  {
   "cell_type": "code",
   "execution_count": 1,
   "id": "f4536c43",
   "metadata": {},
   "outputs": [],
   "source": [
    "from sklearn import linear_model\n",
    "from sklearn.model_selection import train_test_split\n",
    "from sklearn.metrics import mean_squared_error, mean_absolute_error, r2_score\n",
    "import pandas as pd"
   ]
  },
  {
   "cell_type": "code",
   "execution_count": 2,
   "id": "5c029348",
   "metadata": {},
   "outputs": [],
   "source": [
    "dataset=pd.read_csv(\"~/python/regression/linear_dataset/Linear Regression - Sheet1.csv\")\n",
    "#the model is expected to train y=2/3*x+17/9"
   ]
  },
  {
   "cell_type": "code",
   "execution_count": 5,
   "id": "049673f8",
   "metadata": {},
   "outputs": [],
   "source": [
    "x=dataset['X'].values.reshape(-1,1)\n",
    "y=dataset['Y'].values.reshape(-1,1)\n",
    "#reshape data for fitting model"
   ]
  },
  {
   "cell_type": "code",
   "execution_count": 11,
   "id": "3e498f4d",
   "metadata": {},
   "outputs": [],
   "source": [
    "ridge_model=linear_model.Ridge(alpha=0.5)\n",
    "#with bias of alpha in target function is 0.5"
   ]
  },
  {
   "cell_type": "code",
   "execution_count": 12,
   "id": "becd7158",
   "metadata": {},
   "outputs": [],
   "source": [
    "x_train,x_test,y_train,y_test=train_test_split(x,y,test_size=0.2)"
   ]
  },
  {
   "cell_type": "code",
   "execution_count": 13,
   "id": "6591425e",
   "metadata": {},
   "outputs": [
    {
     "data": {
      "text/plain": [
       "Ridge(alpha=0.5)"
      ]
     },
     "execution_count": 13,
     "metadata": {},
     "output_type": "execute_result"
    }
   ],
   "source": [
    "ridge_model.fit(x_train,y_train)\n",
    "#training"
   ]
  },
  {
   "cell_type": "code",
   "execution_count": 14,
   "id": "884a8063",
   "metadata": {},
   "outputs": [],
   "source": [
    "y_pred=ridge_model.predict(x_test)\n",
    "#gen prediction from test set"
   ]
  },
  {
   "cell_type": "code",
   "execution_count": 15,
   "id": "9449b455",
   "metadata": {},
   "outputs": [
    {
     "name": "stdout",
     "output_type": "stream",
     "text": [
      "Coefficients: \n",
      " [[0.63338216]]\n",
      "Interception: \n",
      " [6.7085392]\n",
      "Mean squared error: 9.709491\n",
      "Coefficient of determination: 0.997272\n"
     ]
    }
   ],
   "source": [
    "# The coefficients aka weight\n",
    "print(\"Coefficients: \\n\", ridge_model.coef_)\n",
    "#The interception aka bias\n",
    "print(\"Interception: \\n\", ridge_model.intercept_)\n",
    "# The mean squared error\n",
    "print(\"Mean squared error: %f\" % mean_squared_error(y_test,y_pred))\n",
    "# The coefficient of determination: 1 is perfect prediction\n",
    "print(\"Coefficient of determination: %f\" % r2_score(y_test,y_pred))"
   ]
  }
 ],
 "metadata": {
  "kernelspec": {
   "display_name": "Python 3 (ipykernel)",
   "language": "python",
   "name": "python3"
  },
  "language_info": {
   "codemirror_mode": {
    "name": "ipython",
    "version": 3
   },
   "file_extension": ".py",
   "mimetype": "text/x-python",
   "name": "python",
   "nbconvert_exporter": "python",
   "pygments_lexer": "ipython3",
   "version": "3.9.7"
  }
 },
 "nbformat": 4,
 "nbformat_minor": 5
}
